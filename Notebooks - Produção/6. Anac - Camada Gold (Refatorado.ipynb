{
 "cells": [
  {
   "cell_type": "code",
   "execution_count": 0,
   "metadata": {
    "application/vnd.databricks.v1+cell": {
     "cellMetadata": {
      "byteLimit": 2048000,
      "rowLimit": 10000
     },
     "inputWidgets": {},
     "nuid": "6e86bff7-263a-407c-8ea0-1ba1f761ec0a",
     "showTitle": false,
     "tableResultSettingsMap": {},
     "title": ""
    }
   },
   "outputs": [],
   "source": [
    "\"\"\"\n",
    "Descrição do projeto Gold (base final para analistas de estados tratarem suas bases)\n",
    "\n",
    "1°:Selecionar somentes colunas que o cliente/setor pediu \n",
    "2°:Criar uma nova coluna que faz a soma de todas as lesoes \n",
    "3°:Renomear colunas para ficar mais intuitivas para o usuario final \n",
    "4°:Excluir dados que estados tenham a classificação [Indeterminado, Sem Registro, Exterior]\n",
    "5°:inserir coluna com nome de atualização para usuario ver quando os dados foram atualizados \n",
    "6°:Salvar na camada Gold particionada por UF > 'Estado'\n",
    "\n",
    "\"\"\""
   ]
  },
  {
   "cell_type": "code",
   "execution_count": 0,
   "metadata": {
    "application/vnd.databricks.v1+cell": {
     "cellMetadata": {
      "byteLimit": 2048000,
      "rowLimit": 10000
     },
     "inputWidgets": {},
     "nuid": "8c0fb688-b9f6-4282-a7e7-8622fe0609b9",
     "showTitle": false,
     "tableResultSettingsMap": {},
     "title": ""
    }
   },
   "outputs": [],
   "source": [
    "#Ler o arquivo parquet spark.read.parquet(\"dbfs:/mnt/Anac/Silver/anac_silver.parquet/\")\n",
    "\n",
    "df = spark.read.parquet(\"dbfs:/mnt/Anac/Silver/anac_silver.parquet/\")\n"
   ]
  },
  {
   "cell_type": "code",
   "execution_count": 0,
   "metadata": {
    "application/vnd.databricks.v1+cell": {
     "cellMetadata": {
      "byteLimit": 2048000,
      "rowLimit": 10000
     },
     "inputWidgets": {},
     "nuid": "36c662bc-b81f-413f-9ff5-2b0351484c53",
     "showTitle": false,
     "tableResultSettingsMap": {},
     "title": ""
    }
   },
   "outputs": [],
   "source": [
    "#1°:Selecionar somentes colunas que o cliente/setor pediu\n",
    "\n",
    "colunas = ['Aerodromo_de_Destino', 'Aerodromo_de_Origem','Classificacao_da_Ocorrência', 'Danos_a_Aeronave', 'Data_da_Ocorrencia','Municipio','UF','Regiao','Tipo_de_Aerodromo', 'Tipo_de_Ocorrencia','Lesoes_Desconhecidas_Passageiros', 'Lesoes_Desconhecidas_Terceiros', 'Lesoes_Desconhecidas_Tripulantes', 'Lesoes_Fatais_Passageiros', 'Lesoes_Fatais_Terceiros', 'Lesoes_Fatais_Tripulantes', 'Lesoes_Graves_Passageiros', 'Lesoes_Graves_Terceiros', 'Lesoes_Graves_Tripulantes', 'Lesoes_Leves_Passageiros', 'Lesoes_Leves_Terceiros', 'Lesoes_Leves_Tripulantes']\n",
    "\n",
    "df = df.select(colunas)\n"
   ]
  },
  {
   "cell_type": "code",
   "execution_count": 0,
   "metadata": {
    "application/vnd.databricks.v1+cell": {
     "cellMetadata": {
      "byteLimit": 2048000,
      "rowLimit": 10000
     },
     "inputWidgets": {},
     "nuid": "3a45e750-42a0-4a95-bde4-ee5c3af98122",
     "showTitle": false,
     "tableResultSettingsMap": {},
     "title": ""
    }
   },
   "outputs": [],
   "source": [
    "#2°:Criar uma nova coluna que faz a soma de todas as lesoes \n",
    "\n",
    "colunas_a_somar = [\n",
    "    \"Lesoes_Desconhecidas_Passageiros\",\n",
    "    \"Lesoes_Desconhecidas_Terceiros\",\n",
    "    \"Lesoes_Desconhecidas_Tripulantes\",\n",
    "    \"Lesoes_Fatais_Passageiros\",\n",
    "    \"Lesoes_Fatais_Terceiros\",\n",
    "    \"Lesoes_Fatais_Tripulantes\",\n",
    "    \"Lesoes_Graves_Passageiros\",\n",
    "    \"Lesoes_Graves_Terceiros\",\n",
    "    \"Lesoes_Graves_Tripulantes\",\n",
    "    \"Lesoes_Leves_Passageiros\",\n",
    "    \"Lesoes_Leves_Terceiros\",\n",
    "    \"Lesoes_Leves_Tripulantes\"\n",
    "]\n",
    "df = df.withColumn(\"Total_Lesoes\", sum(df[somartudo] for somartudo in colunas_a_somar))\n"
   ]
  },
  {
   "cell_type": "code",
   "execution_count": 0,
   "metadata": {
    "application/vnd.databricks.v1+cell": {
     "cellMetadata": {
      "byteLimit": 2048000,
      "rowLimit": 10000
     },
     "inputWidgets": {},
     "nuid": "17af0754-9688-4b32-a95a-eb913501163e",
     "showTitle": false,
     "tableResultSettingsMap": {},
     "title": ""
    }
   },
   "outputs": [],
   "source": [
    "# 3°:renomear colunas para ficar mais intuitivas para o usuario final \n",
    "df = df\\\n",
    "    .withColumnRenamed('Aerodromo_de_Destino', 'Destino')\\\n",
    "    .withColumnRenamed('Aerodromo_de_Origem', 'Origem')\\\n",
    "    .withColumnRenamed('Classificacao_da_Ocorrência', 'Classificacao')\\\n",
    "    .withColumnRenamed('Danos_a_Aeronave', 'Danos')\\\n",
    "    .withColumnRenamed('Data_da_Ocorrencia', 'Data')\\\n",
    "    .withColumnRenamed('UF', 'Estado')\\\n",
    "    .withColumnRenamed('Aerodromo_de_Destino', 'Destino')\\\n",
    "    .withColumnRenamed('Aerodromo_de_Destino', 'Destino')\n",
    "\n"
   ]
  },
  {
   "cell_type": "code",
   "execution_count": 0,
   "metadata": {
    "application/vnd.databricks.v1+cell": {
     "cellMetadata": {
      "byteLimit": 2048000,
      "rowLimit": 10000
     },
     "inputWidgets": {},
     "nuid": "ad76b125-bae3-46e0-880c-c0d6a29bb263",
     "showTitle": false,
     "tableResultSettingsMap": {},
     "title": ""
    }
   },
   "outputs": [],
   "source": [
    "#4° Excluir dados que estados tenham a classificação [Indeterminado, Sem Registro, Exterior]\n",
    "\n",
    "classificacoes_a_excluir = [\"Indeterminado\", \"Sem Registro\", \"Exterior\"]\n",
    "df = df.filter(~df['Estado'].isin(classificacoes_a_excluir))\n"
   ]
  },
  {
   "cell_type": "code",
   "execution_count": 0,
   "metadata": {
    "application/vnd.databricks.v1+cell": {
     "cellMetadata": {
      "byteLimit": 2048000,
      "rowLimit": 10000
     },
     "inputWidgets": {},
     "nuid": "cbb81426-aea2-4a28-a594-585c7f079325",
     "showTitle": false,
     "tableResultSettingsMap": {},
     "title": ""
    }
   },
   "outputs": [],
   "source": [
    "#5°: inserir coluna com nome de atualização para usuario ver quando os dados foram atualizados \n",
    "\n",
    "from pyspark.sql.functions import current_timestamp, date_format,from_utc_timestamp\n",
    "\n",
    "df = df.withColumn(\"Atualizacao\",\\\n",
    "     date_format( from_utc_timestamp(current_timestamp(), \"America/Sao_Paulo\"), \"yyyy-MM-dd HH:mm:ss\"))\n"
   ]
  },
  {
   "cell_type": "code",
   "execution_count": 0,
   "metadata": {
    "application/vnd.databricks.v1+cell": {
     "cellMetadata": {
      "byteLimit": 2048000,
      "rowLimit": 10000
     },
     "inputWidgets": {},
     "nuid": "d72510f2-5089-4911-b83d-53d3225308fa",
     "showTitle": false,
     "tableResultSettingsMap": {},
     "title": ""
    }
   },
   "outputs": [],
   "source": [
    "#6°:Salvar na camada Gold particionada por UF > 'Estado'\n",
    "\n",
    "df.write\\\n",
    "    .mode(\"overwrite\")\\\n",
    "    .format(\"parquet\")\\\n",
    "    .partitionBy(\"Estado\")\\\n",
    "    .save(\"dbfs:/mnt/Anac/Gold/anac_gold.parquet\")\n"
   ]
  }
 ],
 "metadata": {
  "application/vnd.databricks.v1+notebook": {
   "computePreferences": null,
   "dashboards": [],
   "environmentMetadata": {
    "base_environment": "",
    "environment_version": "2"
   },
   "inputWidgetPreferences": null,
   "language": "python",
   "notebookMetadata": {
    "mostRecentlyExecutedCommandWithImplicitDF": {
     "commandId": 8359046755118665,
     "dataframes": [
      "_sqldf"
     ]
    },
    "pythonIndentUnit": 4
   },
   "notebookName": "6. Anac - Camada Gold (Refatorado",
   "widgets": {}
  },
  "language_info": {
   "name": "python"
  }
 },
 "nbformat": 4,
 "nbformat_minor": 0
}
